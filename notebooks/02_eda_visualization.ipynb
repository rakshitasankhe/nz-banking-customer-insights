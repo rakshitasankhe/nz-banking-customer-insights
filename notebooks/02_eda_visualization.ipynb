{
  "nbformat": 4,
  "nbformat_minor": 0,
  "metadata": {
    "colab": {
      "provenance": []
    },
    "kernelspec": {
      "name": "python3",
      "display_name": "Python 3"
    },
    "language_info": {
      "name": "python"
    }
  },
  "cells": [
    {
      "cell_type": "code",
      "execution_count": 1,
      "metadata": {
        "id": "jjsaNKt1AQpx"
      },
      "outputs": [],
      "source": [
        "\n",
        "import pandas as pd\n",
        "import matplotlib.pyplot as plt\n",
        "import seaborn as sns\n",
        "\n",
        "df = pd.read_csv('path_to_cleaned_nz_banking_data.csv')  # Update path or upload in Colab\n",
        "\n",
        "\n",
        "sns.histplot(df['Age'], bins=20, kde=True)\n",
        "plt.title('Customer Age Distribution')\n",
        "plt.show()\n",
        "\n",
        "\n",
        "sns.countplot(x='Gender', hue='Churn', data=df)\n",
        "plt.title('Churn by Gender')\n",
        "plt.show()\n",
        "\n",
        "\n",
        "plt.figure(figsize=(10,6))\n",
        "sns.heatmap(df.corr(), annot=True, cmap='coolwarm')\n",
        "plt.title('Feature Correlation Matrix')\n",
        "plt.show()\n",
        "\n",
        "\n",
        "\n",
        "\n"
      ]
    }
  ]
}