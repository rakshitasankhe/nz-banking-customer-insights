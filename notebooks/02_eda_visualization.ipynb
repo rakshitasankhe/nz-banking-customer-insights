{
  "nbformat": 4,
  "nbformat_minor": 0,
  "metadata": {
    "colab": {
      "provenance": []
    },
    "kernelspec": {
      "name": "python3",
      "display_name": "Python 3"
    },
    "language_info": {
      "name": "python"
    }
  },
  "cells": [
    {
      "cell_type": "markdown",
      "source": [
        "# 📊 NZ Bank – Exploratory Data Analysis (EDA)\n",
        "\n",
        "In this notebook, we explore customer data from a fictional NZ bank to understand:\n",
        "- Demographic and financial trends\n",
        "- Churn patterns across age, gender, region\n",
        "- Correlations between features\n",
        "\n",
        "This step will help guide future machine learning models and dashboards."
      ],
      "metadata": {
        "id": "wJcPvfdbNnPd"
      }
    },
    {
      "cell_type": "code",
      "source": [
        "import pandas as pd\n",
        "import matplotlib.pyplot as plt\n",
        "import seaborn as sns\n",
        "\n",
        "# Set theme for all plots\n",
        "sns.set(style='whitegrid', palette='Set2')\n"
      ],
      "metadata": {
        "id": "XPT2DJ-HNfZP"
      },
      "execution_count": 2,
      "outputs": []
    },
    {
      "cell_type": "code",
      "source": [
        "# Upload file if using Google Colab\n",
        "from google.colab import files\n",
        "uploaded = files.upload()\n",
        "\n",
        "import io\n",
        "df = pd.read_csv(io.BytesIO(uploaded['cleaned_nz_banking_data.csv']))\n",
        "df.head()\n"
      ],
      "metadata": {
        "id": "yXLLe8VJNiz1"
      },
      "execution_count": null,
      "outputs": []
    },
    {
      "cell_type": "code",
      "source": [
        "df.info()\n",
        "df.describe()\n"
      ],
      "metadata": {
        "id": "iVb4xIwINmFx"
      },
      "execution_count": null,
      "outputs": []
    },
    {
      "cell_type": "code",
      "source": [
        "plt.figure(figsize=(8, 5))\n",
        "sns.histplot(df['Age'], bins=20, kde=True)\n",
        "plt.title('Customer Age Distribution')\n",
        "plt.xlabel('Age')\n",
        "plt.ylabel('Count')\n",
        "plt.show()\n"
      ],
      "metadata": {
        "id": "t72QgXmmNzzP"
      },
      "execution_count": null,
      "outputs": []
    },
    {
      "cell_type": "code",
      "source": [
        "plt.figure(figsize=(8, 5))\n",
        "sns.histplot(df['AccountBalance'], bins=30, kde=True, color='orange')\n",
        "plt.title('Account Balance Distribution')\n",
        "plt.xlabel('Balance (NZD)')\n",
        "plt.ylabel('Count')\n",
        "plt.show()\n"
      ],
      "metadata": {
        "id": "F6mzQ7zEN1uc"
      },
      "execution_count": null,
      "outputs": []
    },
    {
      "cell_type": "code",
      "source": [
        "plt.figure(figsize=(6, 4))\n",
        "sns.countplot(data=df, x='Gender', hue='Churn')\n",
        "plt.title('Churn Count by Gender')\n",
        "plt.xlabel('Gender')\n",
        "plt.ylabel('Number of Customers')\n",
        "plt.legend(title='Churn', labels=['No', 'Yes'])\n",
        "plt.show()\n"
      ],
      "metadata": {
        "id": "RrAs4MKgN3Yk"
      },
      "execution_count": null,
      "outputs": []
    },
    {
      "cell_type": "code",
      "source": [
        "plt.figure(figsize=(10, 5))\n",
        "sns.countplot(data=df, y='Region', hue='Churn', order=df['Region'].value_counts().index)\n",
        "plt.title('Churn by Region')\n",
        "plt.xlabel('Count')\n",
        "plt.ylabel('Region')\n",
        "plt.legend(title='Churn', labels=['No', 'Yes'])\n",
        "plt.show()\n"
      ],
      "metadata": {
        "id": "fKGcoCF_N-3t"
      },
      "execution_count": null,
      "outputs": []
    },
    {
      "cell_type": "code",
      "source": [
        "plt.figure(figsize=(8, 5))\n",
        "sns.boxplot(data=df, x='Churn', y='AccountBalance')\n",
        "plt.title('Account Balance by Churn')\n",
        "plt.xlabel('Churn')\n",
        "plt.ylabel('Balance (NZD)')\n",
        "plt.xticks([0, 1], ['No', 'Yes'])\n",
        "plt.show()\n"
      ],
      "metadata": {
        "id": "y8oxOBywOAKk"
      },
      "execution_count": null,
      "outputs": []
    },
    {
      "cell_type": "code",
      "source": [
        "plt.figure(figsize=(10, 6))\n",
        "sns.heatmap(df.corr(), annot=True, cmap='coolwarm', fmt='.2f', linewidths=0.5)\n",
        "plt.title('Correlation Between Numeric Features')\n",
        "plt.show()\n"
      ],
      "metadata": {
        "id": "rjmx8YViOB1E"
      },
      "execution_count": null,
      "outputs": []
    },
    {
      "cell_type": "markdown",
      "source": [
        "# ✅ Summary\n",
        "\n",
        "From our EDA, we observed:\n",
        "- Most customers are aged between 30–60\n",
        "- Higher churn among some regions and gender groups\n",
        "- Correlation exists between credit score and churn, but not extremely strong\n",
        "- Account balance distributions vary widely\n",
        "\n",
        "These insights will help us create more accurate churn prediction models next."
      ],
      "metadata": {
        "id": "P5uBWSkWOKyL"
      }
    }
  ]
}