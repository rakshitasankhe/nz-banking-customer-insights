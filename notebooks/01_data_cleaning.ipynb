{
  "nbformat": 4,
  "nbformat_minor": 0,
  "metadata": {
    "colab": {
      "provenance": []
    },
    "kernelspec": {
      "name": "python3",
      "display_name": "Python 3"
    },
    "language_info": {
      "name": "python"
    }
  },
  "cells": [
    {
      "cell_type": "code",
      "source": [
        "import pandas as pd\n",
        "import os\n",
        "\n",
        "# Load raw data\n",
        "df = pd.read_csv('nz_banking_data.csv')\n",
        "\n",
        "# Clean data\n",
        "df = df.drop_duplicates()\n",
        "df = df.dropna()\n",
        "\n",
        "# Create output folder if not exists\n",
        "os.makedirs('output', exist_ok=True)\n",
        "\n",
        "# Save cleaned data\n",
        "df.to_csv('output/cleaned_nz_banking_data.csv', index=False)\n",
        "print(\"✅ Cleaned data saved.\")\n",
        "\n"
      ],
      "metadata": {
        "colab": {
          "base_uri": "https://localhost:8080/"
        },
        "id": "d3QmaoElpIB9",
        "outputId": "40206b35-2885-462d-dc12-9a1e54f6cb3d"
      },
      "execution_count": 4,
      "outputs": [
        {
          "output_type": "stream",
          "name": "stdout",
          "text": [
            "✅ Cleaned data saved.\n"
          ]
        }
      ]
    }
  ]
}